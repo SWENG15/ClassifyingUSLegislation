{
 "cells": [
  {
   "cell_type": "code",
   "execution_count": 1,
   "id": "d252525d",
   "metadata": {},
   "outputs": [],
   "source": [
    "import pandas as pd\n",
    "from sklearn.feature_extraction.text import CountVectorizer\n",
    "from sklearn.naive_bayes import MultinomialNB\n",
    "import csv\n",
    "import codecs"
   ]
  },
  {
   "cell_type": "code",
   "execution_count": 3,
   "id": "023309c7",
   "metadata": {},
   "outputs": [],
   "source": [
    "# Load the data from a CSV file in Latin1 encoding\n",
    "with codecs.open('dataset.csv', 'r', encoding='Latin1') as file:\n",
    "    reader = csv.reader(file)\n",
    "    data = pd.DataFrame(reader, columns=['ID', 'title', 'text','status'])"
   ]
  },
  {
   "cell_type": "code",
   "execution_count": 5,
   "id": "811283b8",
   "metadata": {},
   "outputs": [],
   "source": [
    "# Drop the ID column\n",
    "data = data.drop('ID', axis=1)\n",
    "# Drop the Status column\n",
    "data = data.drop('status', axis=1)"
   ]
  },
  {
   "cell_type": "code",
   "execution_count": 6,
   "id": "e8ea7d33",
   "metadata": {},
   "outputs": [
    {
     "data": {
      "text/html": [
       "<div>\n",
       "<style scoped>\n",
       "    .dataframe tbody tr th:only-of-type {\n",
       "        vertical-align: middle;\n",
       "    }\n",
       "\n",
       "    .dataframe tbody tr th {\n",
       "        vertical-align: top;\n",
       "    }\n",
       "\n",
       "    .dataframe thead th {\n",
       "        text-align: right;\n",
       "    }\n",
       "</style>\n",
       "<table border=\"1\" class=\"dataframe\">\n",
       "  <thead>\n",
       "    <tr style=\"text-align: right;\">\n",
       "      <th></th>\n",
       "      <th>title</th>\n",
       "      <th>text</th>\n",
       "    </tr>\n",
       "  </thead>\n",
       "  <tbody>\n",
       "    <tr>\n",
       "      <th>0</th>\n",
       "      <td>Title</td>\n",
       "      <td>Text</td>\n",
       "    </tr>\n",
       "    <tr>\n",
       "      <th>1</th>\n",
       "      <td>None</td>\n",
       "      <td>None</td>\n",
       "    </tr>\n",
       "    <tr>\n",
       "      <th>2</th>\n",
       "      <td>House Seat Assignment</td>\n",
       "      <td>\\r\\n\\r\\n\\r\\n\\r\\n\\r\\n\\r\\n\\r\\n\\r\\n\\r\\nA HOUSE RE...</td>\n",
       "    </tr>\n",
       "    <tr>\n",
       "      <th>3</th>\n",
       "      <td>None</td>\n",
       "      <td>None</td>\n",
       "    </tr>\n",
       "    <tr>\n",
       "      <th>4</th>\n",
       "      <td>Robert Mitchum</td>\n",
       "      <td>\\r\\n\\r\\n\\r\\n\\r\\n\\r\\n\\r\\n\\r\\n\\r\\n\\r\\nA senate R...</td>\n",
       "    </tr>\n",
       "  </tbody>\n",
       "</table>\n",
       "</div>"
      ],
      "text/plain": [
       "                   title                                               text\n",
       "0                  Title                                               Text\n",
       "1                   None                                               None\n",
       "2  House Seat Assignment  \\r\\n\\r\\n\\r\\n\\r\\n\\r\\n\\r\\n\\r\\n\\r\\n\\r\\nA HOUSE RE...\n",
       "3                   None                                               None\n",
       "4         Robert Mitchum  \\r\\n\\r\\n\\r\\n\\r\\n\\r\\n\\r\\n\\r\\n\\r\\n\\r\\nA senate R..."
      ]
     },
     "execution_count": 6,
     "metadata": {},
     "output_type": "execute_result"
    }
   ],
   "source": [
    "#Check the data description\n",
    "data.head()"
   ]
  },
  {
   "cell_type": "code",
   "execution_count": 8,
   "id": "db71f0e9",
   "metadata": {},
   "outputs": [],
   "source": [
    "# Replace missing values with an empty string\n",
    "data['title'] = data['title'].fillna('')\n",
    "data['text'] = data['text'].fillna('')"
   ]
  },
  {
   "cell_type": "code",
   "execution_count": 9,
   "id": "b857cb98",
   "metadata": {},
   "outputs": [],
   "source": [
    "# Combine text and title columns\n",
    "data['combined_text'] = data['text'] + ' ' + data['title']"
   ]
  },
  {
   "cell_type": "code",
   "execution_count": 10,
   "id": "91afc2a0",
   "metadata": {},
   "outputs": [],
   "source": [
    "# Split the data into training and testing sets\n",
    "X_train = data['combined_text']\n",
    "y_train = data['title']\n",
    "vectorizer = CountVectorizer()\n",
    "X_train = vectorizer.fit_transform(X_train)"
   ]
  },
  {
   "cell_type": "code",
   "execution_count": 11,
   "id": "41ce65fd",
   "metadata": {},
   "outputs": [
    {
     "data": {
      "text/plain": [
       "MultinomialNB()"
      ]
     },
     "execution_count": 11,
     "metadata": {},
     "output_type": "execute_result"
    }
   ],
   "source": [
    "# Train a Naive Bayes classifier on the training data\n",
    "clf = MultinomialNB()\n",
    "clf.fit(X_train, y_train)"
   ]
  },
  {
   "cell_type": "code",
   "execution_count": 15,
   "id": "0b38b741",
   "metadata": {},
   "outputs": [],
   "source": [
    "# Take new text and predict its title\n",
    "#the input would go in new text string\n",
    "#te new text string has a problem, namely if the text has a ' in it, it would give an error, so omit that out beefore inputting\n",
    "new_text = 'A senate RESOLUTION TO RECOGNIZE AND HONOR robert mitchum as one of the greatest motion picture stars of the twentieth century. Whereas, the members of the South Carolina Senate are pleased to recognize the celebrated actor, Robert Mitchum, as one of the greatest motion picture stars of the twentieth century; and Whereas, a native of Bridgeport, Connecticut, Robert Mitchum was born on August 6, 1917, to parents Annie Gunderson and James Mitchum, a native of the town of Lane, in Williamsburg County, South Carolina; and Whereas, during the Great Depression, young Robert Mitchum left home to lessen the financial burden on his family. In 1933, he was arrested for vagrancy and sentenced to thirty days on a chain gang. He escaped the chain gang and made his way to a farm owned by his aunt and uncle, Idell and Alfred Mitchum, in Lane, South Carolina; and Whereas, in the mid-1930s, Robert Mitchum moved to the West Coast, where he began his career in Hollywood as a writer and actor. He started winning roles in cowboy movies in 1943. In 1944, he co-starred with Spencer Tracy in Thirty Seconds Over Tokyo. The following year, he co-starred with Burgess Meredith in The Story of G.I. Joe and was nominated for an Oscar for Best Supporting Actor; and Whereas, after his Oscar nomination, Robert Mitchum career exploded and he became one of the biggest stars of the twentieth century, making over eighty motion pictures until his death in 1997; and Whereas, over the years, Robert Mitchum maintained contact with his Williamsburg family. He invited them to Asheville, North Carolina in 1957 when he filmed Thunder Road. The same year, he was interviewed for a column by Earl Wilson. When Wilson asked him where he was from, Robert Mitchum replied,\"Im from Lane, South Carolina and Whereas, three years later, Robert Mitchum was in Savannah making Cape Fear and invited his relatives to visit, and many came. He also hired his cousin, Douglas Mitchum, Idell and Alfreds son, to be his driver during the filming; and Whereas, Robert Mitchum married Dorothy Spencer in 1940, and together they had three children; and Whereas, with a historical marker in the park in Lane and designation of a week-long Robert Mitchum Film Festival, Williamsburg County celebrates this great actor and claims him as truly one of our own; and Whereas, the members of the South Carolina Senate greatly appreciate the dedication and commitment that Robert Mitchum has shown in serving the people and the State of South Carolina. Now, therefore, Be it resolved by the Senate: That the members of the South Carolina Senate, by this resolution, hereby recognize and honor Robert Mitchum as one of the greatest motion picture stars of the twentieth century. Be it further resolved that a copy of this resolution be presented to the family of Robert Mitchum'\n",
    "X_test = vectorizer.transform([new_text])\n",
    "y_pred = clf.predict(X_test)"
   ]
  },
  {
   "cell_type": "code",
   "execution_count": 16,
   "id": "79269e08",
   "metadata": {},
   "outputs": [
    {
     "name": "stdout",
     "output_type": "stream",
     "text": [
      "Robert Mitchum\n"
     ]
    }
   ],
   "source": [
    "# Print the predicted title for the new text\n",
    "print(y_pred[0])"
   ]
  },
  {
   "cell_type": "code",
   "execution_count": null,
   "id": "7cc2a734",
   "metadata": {},
   "outputs": [],
   "source": []
  }
 ],
 "metadata": {
  "kernelspec": {
   "display_name": "Python 3 (ipykernel)",
   "language": "python",
   "name": "python3"
  },
  "language_info": {
   "codemirror_mode": {
    "name": "ipython",
    "version": 3
   },
   "file_extension": ".py",
   "mimetype": "text/x-python",
   "name": "python",
   "nbconvert_exporter": "python",
   "pygments_lexer": "ipython3",
   "version": "3.9.13"
  }
 },
 "nbformat": 4,
 "nbformat_minor": 5
}
