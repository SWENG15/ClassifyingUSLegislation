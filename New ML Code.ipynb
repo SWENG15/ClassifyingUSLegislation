{
 "cells": [
  {
   "cell_type": "code",
   "execution_count": null,
   "id": "f5a500e2",
   "metadata": {},
   "outputs": [],
   "source": [
    "# Split the data into training and testing sets\n",
    "X = data['subject']\n",
    "y = data['status']\n",
    "#test_size determines how much of the data is used to test the model, with the remaining used to train\n",
    "X_train, X_test, y_train, y_test = train_test_split(X, y, test_size=0.1)"
   ]
  },
  {
   "cell_type": "code",
   "execution_count": null,
   "id": "12496991",
   "metadata": {},
   "outputs": [],
   "source": [
    "# Train a linear regression model on the training set\n",
    "model = LinearRegression()\n",
    "model.fit(X_train, y_train)"
   ]
  },
  {
   "cell_type": "code",
   "execution_count": null,
   "id": "8f0843d4",
   "metadata": {},
   "outputs": [],
   "source": [
    "# Use the trained model to predict the probability of passing for the input data\n",
    "input_subject = ' '\n",
    "input_data = [[input_subject]]\n",
    "prob_passing = model.predict(input_data)[0]\n"
   ]
  },
  {
   "cell_type": "code",
   "execution_count": null,
   "id": "cc5ce7bb",
   "metadata": {},
   "outputs": [],
   "source": [
    "# Calculate the error rate using the testing set\n",
    "y_pred = model.predict(X_test)\n",
    "error_rate = mean_squared_error(y_test, y_pred)\n",
    "\n",
    "print(f\"Probability of passing {input_subject}: {prob_passing}\")\n",
    "print(f\"Error rate: {error_rate}\")"
   ]
  },
  {
   "cell_type": "code",
   "execution_count": null,
   "id": "1afccc5a",
   "metadata": {},
   "outputs": [],
   "source": [
    "// This is new code for prediction when the issues with data are fixed, it needs to be added to the pre existing ML code to work"
   ]
  }
 ],
 "metadata": {
  "kernelspec": {
   "display_name": "Python 3 (ipykernel)",
   "language": "python",
   "name": "python3"
  },
  "language_info": {
   "codemirror_mode": {
    "name": "ipython",
    "version": 3
   },
   "file_extension": ".py",
   "mimetype": "text/x-python",
   "name": "python",
   "nbconvert_exporter": "python",
   "pygments_lexer": "ipython3",
   "version": "3.9.13"
  }
 },
 "nbformat": 4,
 "nbformat_minor": 5
}
