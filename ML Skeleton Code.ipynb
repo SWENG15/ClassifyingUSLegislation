{
 "cells": [
  {
   "cell_type": "code",
   "execution_count": null,
   "id": "960ba03f",
   "metadata": {},
   "outputs": [],
   "source": [
    "import pandas as pd\n",
    "import numpy as np\n",
    "import seaborn as sns\n",
    "import matplotlib.pyplot as plt\n",
    "\n",
    "from jupyterthemes import jtplot \n",
    "jtplot.style(theme = 'monokai', context = 'notebook', ticks = True, grid = False)"
   ]
  },
  {
   "cell_type": "code",
   "execution_count": null,
   "id": "cd738108",
   "metadata": {},
   "outputs": [],
   "source": [
    "#read the csv file \n",
    "df = pd.read_csv(\"example.csv\")"
   ]
  },
  {
   "cell_type": "code",
   "execution_count": null,
   "id": "00c2ce82",
   "metadata": {},
   "outputs": [],
   "source": [
    "#see data in file\n",
    "df.describe();"
   ]
  },
  {
   "cell_type": "code",
   "execution_count": null,
   "id": "b0e816ed",
   "metadata": {},
   "outputs": [],
   "source": [
    "#splitting of data\n",
    "\n",
    "y = df['target']\n",
    "X = df.drop(columns =['target'])"
   ]
  },
  {
   "cell_type": "code",
   "execution_count": null,
   "id": "557bfceb",
   "metadata": {},
   "outputs": [],
   "source": [
    "#check data \n",
    "X.shape\n",
    "y.shape"
   ]
  },
  {
   "cell_type": "code",
   "execution_count": null,
   "id": "fd666f9e",
   "metadata": {},
   "outputs": [],
   "source": [
    "#splitting data to test and train\n",
    "from sklearn.model_selection import train_test_split\n",
    "X_train, X_test, y_train, y_test = train_test_split(X, y, test_size = 0.5)"
   ]
  },
  {
   "cell_type": "code",
   "execution_count": null,
   "id": "1d38728d",
   "metadata": {},
   "outputs": [],
   "source": [
    "#for training sets\n",
    "X_train.shape\n",
    "y_train.shape"
   ]
  },
  {
   "cell_type": "code",
   "execution_count": null,
   "id": "8c19503c",
   "metadata": {},
   "outputs": [],
   "source": [
    "for testing sets\n",
    "X_test.shape\n",
    "y_test.shape"
   ]
  }
 ],
 "metadata": {
  "kernelspec": {
   "display_name": "Python 3 (ipykernel)",
   "language": "python",
   "name": "python3"
  },
  "language_info": {
   "codemirror_mode": {
    "name": "ipython",
    "version": 3
   },
   "file_extension": ".py",
   "mimetype": "text/x-python",
   "name": "python",
   "nbconvert_exporter": "python",
   "pygments_lexer": "ipython3",
   "version": "3.9.13"
  }
 },
 "nbformat": 4,
 "nbformat_minor": 5
}
