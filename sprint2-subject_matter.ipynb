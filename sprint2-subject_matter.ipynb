{
 "cells": [
  {
   "cell_type": "code",
   "execution_count": 105,
   "id": "d252525d",
   "metadata": {},
   "outputs": [],
   "source": [
    "import pandas as pd\n",
    "from sklearn.feature_extraction.text import CountVectorizer\n",
    "from sklearn.naive_bayes import MultinomialNB\n",
    "from sklearn.model_selection import train_test_split\n",
    "from sklearn.metrics import accuracy_score\n",
    "import csv\n",
    "import codecs"
   ]
  },
  {
   "cell_type": "code",
   "execution_count": 106,
   "id": "023309c7",
   "metadata": {},
   "outputs": [],
   "source": [
    "# Load the data from a CSV file in Latin1 encoding\n",
    "with codecs.open('subject_dataset.csv', 'r', encoding='Latin1') as file:\n",
    "    reader = csv.reader(file)\n",
    "    data = pd.DataFrame(reader, columns=['ID', 'title', 'text', 'status', 'subject'])"
   ]
  },
  {
   "cell_type": "code",
   "execution_count": 107,
   "id": "811283b8",
   "metadata": {},
   "outputs": [],
   "source": [
    "# Drop the ID column\n",
    "data = data.drop('ID', axis=1)\n",
    "# Drop the Status column\n",
    "data = data.drop('status', axis=1)"
   ]
  },
  {
   "cell_type": "code",
   "execution_count": 108,
   "id": "e8ea7d33",
   "metadata": {},
   "outputs": [
    {
     "data": {
      "text/html": [
       "<div>\n",
       "<style scoped>\n",
       "    .dataframe tbody tr th:only-of-type {\n",
       "        vertical-align: middle;\n",
       "    }\n",
       "\n",
       "    .dataframe tbody tr th {\n",
       "        vertical-align: top;\n",
       "    }\n",
       "\n",
       "    .dataframe thead th {\n",
       "        text-align: right;\n",
       "    }\n",
       "</style>\n",
       "<table border=\"1\" class=\"dataframe\">\n",
       "  <thead>\n",
       "    <tr style=\"text-align: right;\">\n",
       "      <th></th>\n",
       "      <th>title</th>\n",
       "      <th>text</th>\n",
       "      <th>subject</th>\n",
       "    </tr>\n",
       "  </thead>\n",
       "  <tbody>\n",
       "    <tr>\n",
       "      <th>0</th>\n",
       "      <td>Title</td>\n",
       "      <td>Text</td>\n",
       "      <td>Subject</td>\n",
       "    </tr>\n",
       "    <tr>\n",
       "      <th>1</th>\n",
       "      <td>Creating mechanism for enforcement of spousal ...</td>\n",
       "      <td>\" FISCAL NOTE  WEST virginia legislature 2023 ...</td>\n",
       "      <td></td>\n",
       "    </tr>\n",
       "    <tr>\n",
       "      <th>2</th>\n",
       "      <td>recalculation of the parties' modified child ...</td>\n",
       "      <td>including the preparation of a petition</td>\n",
       "      <td>when appropriate. (c) The Bureau for Child Su...</td>\n",
       "    </tr>\n",
       "    <tr>\n",
       "      <th>3</th>\n",
       "      <td>Relating to requiring a court to verify certai...</td>\n",
       "      <td>\"WEST virginia legislature 2023 regular sessio...</td>\n",
       "      <td>Domestic Relations</td>\n",
       "    </tr>\n",
       "    <tr>\n",
       "      <th>4</th>\n",
       "      <td>Increasing tax credit for employers providing ...</td>\n",
       "      <td>\" FISCAL NOTE  WEST VIRGINIA LEGISLATURE 2023 ...</td>\n",
       "      <td>Taxation</td>\n",
       "    </tr>\n",
       "  </tbody>\n",
       "</table>\n",
       "</div>"
      ],
      "text/plain": [
       "                                               title  \\\n",
       "0                                              Title   \n",
       "1  Creating mechanism for enforcement of spousal ...   \n",
       "2   recalculation of the parties' modified child ...   \n",
       "3  Relating to requiring a court to verify certai...   \n",
       "4  Increasing tax credit for employers providing ...   \n",
       "\n",
       "                                                text  \\\n",
       "0                                               Text   \n",
       "1  \" FISCAL NOTE  WEST virginia legislature 2023 ...   \n",
       "2            including the preparation of a petition   \n",
       "3  \"WEST virginia legislature 2023 regular sessio...   \n",
       "4  \" FISCAL NOTE  WEST VIRGINIA LEGISLATURE 2023 ...   \n",
       "\n",
       "                                             subject  \n",
       "0                                            Subject  \n",
       "1                                                     \n",
       "2   when appropriate. (c) The Bureau for Child Su...  \n",
       "3                                 Domestic Relations  \n",
       "4                                           Taxation  "
      ]
     },
     "execution_count": 108,
     "metadata": {},
     "output_type": "execute_result"
    }
   ],
   "source": [
    "#Check the data description\n",
    "data.head()"
   ]
  },
  {
   "cell_type": "code",
   "execution_count": 109,
   "id": "db71f0e9",
   "metadata": {},
   "outputs": [],
   "source": [
    "# Replace missing values with an empty string\n",
    "data['title'] = data['title'].fillna('')\n",
    "data['text'] = data['text'].fillna('')\n",
    "data['subject'] = data['subject'].fillna('')"
   ]
  },
  {
   "cell_type": "code",
   "execution_count": 110,
   "id": "b857cb98",
   "metadata": {},
   "outputs": [],
   "source": [
    "# Combine text and title columns\n",
    "data['combined_text'] = data['text'] + ' ' + data['title'] "
   ]
  },
  {
   "cell_type": "code",
   "execution_count": 130,
   "id": "91afc2a0",
   "metadata": {},
   "outputs": [],
   "source": [
    "# Split the data into training and testing sets\n",
    "X = data['combined_text']\n",
    "y = data['subject']\n",
    "vectorizer = CountVectorizer()\n",
    "X = vectorizer.fit_transform(X)\n",
    "#test_size determines how much of the data is used to test the model, with the remaining used to train\n",
    "X_train, X_test, y_train, y_test = train_test_split(X, y, test_size=0.2)"
   ]
  },
  {
   "cell_type": "code",
   "execution_count": 131,
   "id": "41ce65fd",
   "metadata": {},
   "outputs": [
    {
     "data": {
      "text/html": [
       "<style>#sk-container-id-15 {color: black;background-color: white;}#sk-container-id-15 pre{padding: 0;}#sk-container-id-15 div.sk-toggleable {background-color: white;}#sk-container-id-15 label.sk-toggleable__label {cursor: pointer;display: block;width: 100%;margin-bottom: 0;padding: 0.3em;box-sizing: border-box;text-align: center;}#sk-container-id-15 label.sk-toggleable__label-arrow:before {content: \"▸\";float: left;margin-right: 0.25em;color: #696969;}#sk-container-id-15 label.sk-toggleable__label-arrow:hover:before {color: black;}#sk-container-id-15 div.sk-estimator:hover label.sk-toggleable__label-arrow:before {color: black;}#sk-container-id-15 div.sk-toggleable__content {max-height: 0;max-width: 0;overflow: hidden;text-align: left;background-color: #f0f8ff;}#sk-container-id-15 div.sk-toggleable__content pre {margin: 0.2em;color: black;border-radius: 0.25em;background-color: #f0f8ff;}#sk-container-id-15 input.sk-toggleable__control:checked~div.sk-toggleable__content {max-height: 200px;max-width: 100%;overflow: auto;}#sk-container-id-15 input.sk-toggleable__control:checked~label.sk-toggleable__label-arrow:before {content: \"▾\";}#sk-container-id-15 div.sk-estimator input.sk-toggleable__control:checked~label.sk-toggleable__label {background-color: #d4ebff;}#sk-container-id-15 div.sk-label input.sk-toggleable__control:checked~label.sk-toggleable__label {background-color: #d4ebff;}#sk-container-id-15 input.sk-hidden--visually {border: 0;clip: rect(1px 1px 1px 1px);clip: rect(1px, 1px, 1px, 1px);height: 1px;margin: -1px;overflow: hidden;padding: 0;position: absolute;width: 1px;}#sk-container-id-15 div.sk-estimator {font-family: monospace;background-color: #f0f8ff;border: 1px dotted black;border-radius: 0.25em;box-sizing: border-box;margin-bottom: 0.5em;}#sk-container-id-15 div.sk-estimator:hover {background-color: #d4ebff;}#sk-container-id-15 div.sk-parallel-item::after {content: \"\";width: 100%;border-bottom: 1px solid gray;flex-grow: 1;}#sk-container-id-15 div.sk-label:hover label.sk-toggleable__label {background-color: #d4ebff;}#sk-container-id-15 div.sk-serial::before {content: \"\";position: absolute;border-left: 1px solid gray;box-sizing: border-box;top: 0;bottom: 0;left: 50%;z-index: 0;}#sk-container-id-15 div.sk-serial {display: flex;flex-direction: column;align-items: center;background-color: white;padding-right: 0.2em;padding-left: 0.2em;position: relative;}#sk-container-id-15 div.sk-item {position: relative;z-index: 1;}#sk-container-id-15 div.sk-parallel {display: flex;align-items: stretch;justify-content: center;background-color: white;position: relative;}#sk-container-id-15 div.sk-item::before, #sk-container-id-15 div.sk-parallel-item::before {content: \"\";position: absolute;border-left: 1px solid gray;box-sizing: border-box;top: 0;bottom: 0;left: 50%;z-index: -1;}#sk-container-id-15 div.sk-parallel-item {display: flex;flex-direction: column;z-index: 1;position: relative;background-color: white;}#sk-container-id-15 div.sk-parallel-item:first-child::after {align-self: flex-end;width: 50%;}#sk-container-id-15 div.sk-parallel-item:last-child::after {align-self: flex-start;width: 50%;}#sk-container-id-15 div.sk-parallel-item:only-child::after {width: 0;}#sk-container-id-15 div.sk-dashed-wrapped {border: 1px dashed gray;margin: 0 0.4em 0.5em 0.4em;box-sizing: border-box;padding-bottom: 0.4em;background-color: white;}#sk-container-id-15 div.sk-label label {font-family: monospace;font-weight: bold;display: inline-block;line-height: 1.2em;}#sk-container-id-15 div.sk-label-container {text-align: center;}#sk-container-id-15 div.sk-container {/* jupyter's `normalize.less` sets `[hidden] { display: none; }` but bootstrap.min.css set `[hidden] { display: none !important; }` so we also need the `!important` here to be able to override the default hidden behavior on the sphinx rendered scikit-learn.org. See: https://github.com/scikit-learn/scikit-learn/issues/21755 */display: inline-block !important;position: relative;}#sk-container-id-15 div.sk-text-repr-fallback {display: none;}</style><div id=\"sk-container-id-15\" class=\"sk-top-container\"><div class=\"sk-text-repr-fallback\"><pre>MultinomialNB()</pre><b>In a Jupyter environment, please rerun this cell to show the HTML representation or trust the notebook. <br />On GitHub, the HTML representation is unable to render, please try loading this page with nbviewer.org.</b></div><div class=\"sk-container\" hidden><div class=\"sk-item\"><div class=\"sk-estimator sk-toggleable\"><input class=\"sk-toggleable__control sk-hidden--visually\" id=\"sk-estimator-id-15\" type=\"checkbox\" checked><label for=\"sk-estimator-id-15\" class=\"sk-toggleable__label sk-toggleable__label-arrow\">MultinomialNB</label><div class=\"sk-toggleable__content\"><pre>MultinomialNB()</pre></div></div></div></div></div>"
      ],
      "text/plain": [
       "MultinomialNB()"
      ]
     },
     "execution_count": 131,
     "metadata": {},
     "output_type": "execute_result"
    }
   ],
   "source": [
    "# Train a Naive Bayes classifier on the training data\n",
    "clf = MultinomialNB()\n",
    "clf.fit(X_train, y_train)"
   ]
  },
  {
   "cell_type": "code",
   "execution_count": 134,
   "id": "0b38b741",
   "metadata": {},
   "outputs": [
    {
     "data": {
      "text/plain": [
       "0.5128205128205128"
      ]
     },
     "execution_count": 134,
     "metadata": {},
     "output_type": "execute_result"
    }
   ],
   "source": [
    "# Take new text and predict its title\n",
    "#the input would go in new text string\n",
    "#te new text string has a problem, namely if the text has a ' in it, it would give an error, so omit that out beefore inputting\n",
    "#new_text = 'WEST VIRGINIA LEGISLATURE 2023 REGULAR SESSION Introduced House Bill 3485 By Delegates Householder, Jeffries, Gearheart, and Espinosa [Introduced February 14, 2023; Referred to the Committee on Health and Human Resources then the Judiciary] A BILL to amend the Code of West Virginia, 1931, as amended, by adding thereto a new article, designated Â§9-4F-1, Â§9-4F-2, Â§9-4F-3, Â§9-4F-4, Â§9-4F-5, Â§9-4F-6, Â§9-4F-7, Â§9-4F-8, Â§9-4F-9, Â§9-4F-10, and Â§9-4F-11, all relating to the creation of the Medicaid Sustainability Act of 2023; providing for a short title; providing for a purpose; providing for hospital presumptive eligibility; creating a fraud lockout; creating automatic renewal and prepopulated forms; providing for biannual and quarterly redeterminations; providing for a mandatory job search; creating work requirements; providing for state plan amendments and waivers; providing for severability; and creating an effective date. Be it enacted by the Legislature of West Virginia:   ARTICLE 4F. medicaid sustainability act of 2023.  Â§9-4F-1. Short title. This article shall be known and may be cited as the \"Medicaid Sustainability Act of 2023.\"  Â§9-4F-2. Purpose. The purpose of this article is to increase program integrity in Medicaid and save resources for the truly needy by requiring the West Virginia Department of Health and Human Resources, Bureau for Medical Services (BMS) to apply for waivers to verify eligibility more frequently and encourage work.  Â§9-4F-3. Hospital presumptive eligibility. The West Virginia Department of Health and Human Resources, Bureau for Medical Services (BMS) shall request federal approval from the centers for Medicare and Medicaid services of the United States Department of Health and Human Services for a section 1115 demonstration waiver to enable the department to eliminate mandatory hospital presumptive eligibility and restrict presumptive eligibility determinations to children and pregnant women eligibility groups.  Â§9-4F-4. Fraud lockout. The West Virginia Department of Health and Human Resources, Bureau for Medical Services (BMS) shall request federal approval from the centers for Medicare and Medicaid services of the United States Department of Health and Human Services for a section 1115 demonstration waiver to prohibit re-enrollment and deny eligibility for a minimum of six  months for nondisabled, nonpregnant adults between the ages of 19 and 64 who fail to report changes in circumstances which affect their eligibility for Medicaid.  Â§9-4F-5. Automatic renewal and prepopulated forms. The West Virginia Department of Health and Human Resources, Bureau for Medical Services (BMS) shall request federal approval from the centers for Medicare and Medicaid services of the United States Department of Health and Human Services for a section 1115 demonstration waiver to enable the West Virginia Department of Health and Human Resources, Bureau for Medical Services (BMS) to suspend the Medicaid requirement to renew eligibility automatically based on available information and to suspend the Medicaid requirement to use a pre-populated renewal form.  Â§9-4F-6. Biannual and quarterly redeterminations. The West Virginia Department of Health and Human Resources, Bureau for Medical Services (BMS) shall request federal approval from the centers for Medicare and Medicaid services of the United States Department of Health and Human Services for a section 1115 demonstration waiver to enable the West Virginia Department of Health and Human Resources, Bureau for Medical Services (BMS) to redetermine the Medicaid eligibility of all individuals eligible under sections 1902(a)(10)(A)(i)(VIII) and 1902(e)(14) of the federal Social Security Act or 42 USCS Â§ 1396d(a)(ii) on a quarterly basis and all other individuals on a biannual basis.  Â§9-4F-7. Mandatory job search. The West Virginia Department of Health and Human Resources, Bureau for Medical Services (BMS) shall request federal approval from the centers for Medicare and Medicaid services of the United States Department of Health and Human Services for a section 1115 demonstration waiver to enable the West Virginia Department of Health and Human Resources to implement the following requirements for individuals otherwise eligible under sections 1902(a)(10)(A)(i)(VIII) and 1902(e)(14) of the federal Social Security Act or 42 USCS Â§ 1396d(a)(ii): (1) As a condition of eligibility before enrolling or re-enrolling an individual or issuing benefits funded through Medicaid, an individual must provide evidence of job search activities in the four preceding weeks including, at a minimum, evidence of six contacts with employers per week and three submitted job applications or resumes per week; and (2) After enrolling an individual in Medicaid, an individual must, as a condition of continued eligibility, provide evidence of job search activities for the first ten weeks of coverage including, at a minimum, evidence of six contacts with employers per week and three submitted job applications or resumes per week and provide such evidence in a weekly compliance check-in and, without good cause provided by the individual for failure to comply or attendance in a check-in, the West Virginia Department of Health and Human Resources shall remove the individual.  Â§9-4F-8. Work requirement. The West Virginia Department of Health and Human Resources, Bureau for Medical Services (BMS) shall request federal approval from the centers for Medicare and Medicaid services of the United States Department of Health and Human Services for a section 1115 demonstration waiver to enable the West Virginia Department of Health and Human Resources, Bureau for Medical Services (BMS) to implement the following work requirement: (a) No individual shall be eligible to participate in the Medicaid program unless that individual is: (1) Working 20 hours or more per week, averaged monthly; (2) Participating in and complying with the requirements of a work program 20 hours or more per week, as determined by the West Virginia Department of Health and Human Resources, Bureau for Medical Services (BMS); (3) Volunteering 20 hours or more per week, as determined by the West Virginia Department of Health and Human Resources, Bureau for Medical Services (BMS); (4) Meeting any combination of working and participating in a work program for a total of 20 hours or more per week, as determined by the West Virginia Department of Health and Human Resources, Bureau for Medical Services (BMS); or (5) Participating and complying with the requirements of a workfare program. (b) Exemptions from the work requirement. The Medicaid work requirement does not apply to an individual if he or she is: (1) Under the age of 19; (2) Over the age of 64; (3) Medically certified as physically or mentally unfit for employment; (4) Is pregnant; (5) A parent or caretaker responsible for the care of a dependent child under the age of 1; (6) A parent or caretaker personally providing the care for a dependent child with serious medical conditions or with a disability, as determined by the agency; (7) Receiving unemployment compensation and complying with work requirements that are part of the Federal-State unemployment compensation system; or (8) Participating in a drug addiction or alcoholic treatment and rehabilitation program.  Â§9-4F-9. State plan amendments and waivers. The West Virginia Department of Health and Human Resources, Bureau for Medical Services (BMS) shall submit requests for federal approval from the centers for Medicare and Medicaid services of the United States Department of Health and Human Services for a section 1115 demonstration waiver required under this article no later than January 1, 2024. If federal approval for a waiver is denied at any point, the West Virginia Department of Health and Human Resources shall resubmit a request for approval within 24 months of each denial.  Â§9-4F-10. Severability. If any provision of this article or its application to any person or circumstance is held invalid, then the invalidity shall not affect other provisions or applications of the article that can be given effect without the invalid provision or application, and to that end the provisions of this article shall be severable.  Â§9-4F-11. Effective date. The provisions of this article shall take effect immediately. NOTE: The purpose of this bill is to create the Medicaid Sustainability Act of 2023. The bill provides for a short title. The bill provides for a purpose. The bill provides for hospital presumptive eligibility. The bill creates a fraud lockout. The bill creates automatic renewal and prepopulated form. The bill provides for biannual and quarterly redeterminations. The bill provides for a mandatory job search. The bill creates work requirements. The bill provides for state plan amendments and waivers. The bill provides for severability. Finally, the bill provides an effective date. Strike-throughs indicate language that would be stricken from a heading or the present law and underscoring indicates new language that would be added.'\n",
    "#X_test = vectorizer.transform([new_text])\n",
    "y_pred = clf.predict(X_test)\n",
    "score = accuracy_score(y_test, y_pred)\n",
    "score"
   ]
  },
  {
   "cell_type": "code",
   "execution_count": 104,
   "id": "79269e08",
   "metadata": {},
   "outputs": [
    {
     "name": "stdout",
     "output_type": "stream",
     "text": [
      "Health\n"
     ]
    }
   ],
   "source": [
    "# Print the predicted title for the new text\n",
    "print(y_pred[0])"
   ]
  }
 ],
 "metadata": {
  "kernelspec": {
   "display_name": "Python 3 (ipykernel)",
   "language": "python",
   "name": "python3"
  },
  "language_info": {
   "codemirror_mode": {
    "name": "ipython",
    "version": 3
   },
   "file_extension": ".py",
   "mimetype": "text/x-python",
   "name": "python",
   "nbconvert_exporter": "python",
   "pygments_lexer": "ipython3",
   "version": "3.10.2"
  }
 },
 "nbformat": 4,
 "nbformat_minor": 5
}
